{
 "cells": [
  {
   "cell_type": "markdown",
   "metadata": {},
   "source": [
    "# Lang 3 Examples and Docs"
   ]
  },
  {
   "cell_type": "markdown",
   "metadata": {},
   "source": [
    "## Objects"
   ]
  },
  {
   "cell_type": "markdown",
   "metadata": {},
   "source": [
    "### The Value-Object System"
   ]
  },
  {
   "cell_type": "markdown",
   "metadata": {},
   "source": [
    "All objects have an object type and a value:"
   ]
  },
  {
   "cell_type": "code",
   "execution_count": null,
   "metadata": {},
   "outputs": [],
   "source": [
    "o       # returns the object :o;'s value - in namy cases, this is the same as the object itself\n",
    "$o      # references the object - can be used to access methods, properties, pass the object as a whole, etc."
   ]
  },
  {
   "cell_type": "markdown",
   "metadata": {},
   "source": [
    "When a variable is declared in the default way, the object and value are the same:"
   ]
  },
  {
   "cell_type": "code",
   "execution_count": null,
   "metadata": {},
   "outputs": [],
   "source": [
    "x = 1\n",
    "x           #: 1\n",
    "$x          #: 1\n",
    "type(x)     #: int\n",
    "type($x)    #: int"
   ]
  },
  {
   "cell_type": "markdown",
   "metadata": {},
   "source": [
    "However, when a type is applied, the target value is assigned to the value of that object, and the object is of the type that was specified:"
   ]
  },
  {
   "cell_type": "code",
   "execution_count": null,
   "metadata": {},
   "outputs": [],
   "source": [
    "loop x = 1\n",
    "x           #: 1\n",
    "$x          #: <loop x>\n",
    "type(x)     #: int\n",
    "type($x)    #: loop"
   ]
  },
  {
   "cell_type": "markdown",
   "metadata": {},
   "source": [
    "In that case, calling methods or accessing properties on the variable will work with the value's children, and calling methods or accessing properties on the object reference will work with the object's children:"
   ]
  },
  {
   "cell_type": "code",
   "execution_count": null,
   "metadata": {},
   "outputs": [],
   "source": [
    "x.someIntProperty\n",
    "$x.someLoopProperty\n",
    "x.someIntMethod()\n",
    "$x.someLoopMethod()"
   ]
  },
  {
   "cell_type": "markdown",
   "metadata": {},
   "source": [
    "### Type Modification Behavior"
   ]
  },
  {
   "cell_type": "markdown",
   "metadata": {},
   "source": [
    "Any object (called the template object when used as a type) can be used as a type, and the new object (the target object) created of that type will inherit the children of the template object:"
   ]
  },
  {
   "cell_type": "code",
   "execution_count": null,
   "metadata": {},
   "outputs": [],
   "source": [
    "int newType =       # Declare a new variable with an explicit type and no value\n",
    "type($newType)      #: int\n",
    "$newType.prop =     # Adding a property (with no value) makes it different than the original type\n",
    "type($newType)      #: newType  ; New types are given the name of the variable they originated from"
   ]
  },
  {
   "cell_type": "markdown",
   "metadata": {},
   "source": [
    "If an variable of an existing type with it's children unchanged is used as a type, the target variable uses the original existing type:"
   ]
  },
  {
   "cell_type": "code",
   "execution_count": null,
   "metadata": {},
   "outputs": [],
   "source": [
    "int newType =\n",
    "type($newType)      #: int      ; int is an existing type\n",
    "$newType x =\n",
    "type($x)            #: int      ; Since :newType; didn't modify the children of int in any way, it did not create a new type"
   ]
  },
  {
   "cell_type": "markdown",
   "metadata": {},
   "source": [
    "If a type is changed twice identically, it still creates new types for both:"
   ]
  },
  {
   "cell_type": "code",
   "execution_count": null,
   "metadata": {},
   "outputs": [],
   "source": [
    "# Modify the :int; type once\n",
    "int type1 = \n",
    "$type1.prop = \"abc\"\n",
    "type($type1)                    #: type1    ; a new type is created\n",
    "\n",
    "# Modify the :int; type again identically\n",
    "int type2 = \n",
    "$type2.prop = \"abc\"\n",
    "type($type2)                    #: type2    ; a second new type is created\n",
    "\n",
    "type($type1) == type($type2)    #: true     ; the types are identical\n",
    "type($type1) is type($type2)    #: false    ; the types are not the same object"
   ]
  },
  {
   "cell_type": "markdown",
   "metadata": {},
   "source": [
    "Note that values cannot have their types modified:"
   ]
  },
  {
   "cell_type": "code",
   "execution_count": null,
   "metadata": {},
   "outputs": [],
   "source": [
    "loop newType = 1\n",
    "\n",
    "type(newType)           #: int\n",
    "newType.prop = \"abc\"    #! TypeError - The type of a variable's value cannot be modified"
   ]
  },
  {
   "cell_type": "markdown",
   "metadata": {},
   "source": [
    "### Creating Traditional Classes"
   ]
  },
  {
   "cell_type": "markdown",
   "metadata": {},
   "source": [
    "While classes as a distinct concept do not exist in lang3, they can be created with full functionality."
   ]
  },
  {
   "cell_type": "markdown",
   "metadata": {},
   "source": [
    "##### Example in Java:"
   ]
  },
  {
   "cell_type": "markdown",
   "metadata": {
    "vscode": {
     "languageId": "lang3"
    }
   },
   "source": [
    "```java\n",
    "class A {                   // Declare the class\n",
    "    int x;                  // Declare an instance variable\n",
    "\n",
    "    public A(int n) {       // Declare the constructor\n",
    "        this.x = n;            // Initialize the instance variable with the parameter value\n",
    "    }\n",
    "\n",
    "    public int addTwo() {   // Declare a method\n",
    "        return this.x + 2;     // Access the instance variable and return a value\n",
    "    }\n",
    "}\n",
    "\n",
    "A a = new A(1);             // Declare and initialize an instance of the class\n",
    "a.addTwo();                 // Call a method on that instance\n",
    "```"
   ]
  },
  {
   "cell_type": "markdown",
   "metadata": {},
   "source": [
    "##### Equivalent in Lang3:"
   ]
  },
  {
   "cell_type": "code",
   "execution_count": null,
   "metadata": {},
   "outputs": [],
   "source": [
    "A = [n]:                    # Create the variable A and assign a function code block to it as its contructor\n",
    "    inst $                    # Use the :inst; keyword to duplicate the current object...\n",
    "                                # (previously accessible from :$;) and assign the new object's object reference to :$;\n",
    "    $.x = n                   # Declare and initialize a property with the parameter value\n",
    "    return $                  # Return the object\n",
    ";\n",
    "# POINT 1\n",
    "$A.addTwo = [n]:$.x + 2;    # Add a method to A as an object, not the code block (A's value)\n",
    "# POINT 2\n",
    "\n",
    "a = A(1)\n",
    "a.addTwo()"
   ]
  },
  {
   "cell_type": "markdown",
   "metadata": {},
   "source": [
    "> Note that in the value-object system, all classes with a constructor have their value set to a code block, meaning that they can be run as functions which return the object themselves\n",
    "\n",
    "> Also note how the object's type changes:\\\n",
    ">   At `POINT 1`, these are the types of A as a value and as an object"
   ]
  },
  {
   "cell_type": "code",
   "execution_count": null,
   "metadata": {},
   "outputs": [],
   "source": [
    "type(A)                     #: code ; A code block is assigned to :A;\n",
    "type($A)                    #: code ; The object infers its type from its value when not otherwise stated"
   ]
  },
  {
   "cell_type": "markdown",
   "metadata": {},
   "source": [
    ">   At `POINT 2`, these are those same types:"
   ]
  },
  {
   "cell_type": "code",
   "execution_count": null,
   "metadata": {},
   "outputs": [],
   "source": [
    "type(A)                     #: code ; The code block value is unchanged\n",
    "type($A)                    #: _A   ; The object A is now different from the code block type, and became it's own type"
   ]
  },
  {
   "cell_type": "markdown",
   "metadata": {},
   "source": [
    "### Traditional Class Behavior"
   ]
  },
  {
   "cell_type": "markdown",
   "metadata": {},
   "source": [
    "##### Instantiation (as seen above):"
   ]
  },
  {
   "cell_type": "code",
   "execution_count": null,
   "metadata": {},
   "outputs": [],
   "source": [
    "a1 = A(1)\n",
    "a2 = A(2)"
   ]
  },
  {
   "cell_type": "markdown",
   "metadata": {},
   "source": [
    "##### Inheritance:"
   ]
  },
  {
   "cell_type": "code",
   "execution_count": null,
   "metadata": {},
   "outputs": [],
   "source": [
    "A B =           # Declare a new variable of type A\n",
    "B.addThree =    # Add a new child, creating a new type that inherits all the properties and methods of the previous type"
   ]
  },
  {
   "cell_type": "markdown",
   "metadata": {},
   "source": [
    "##### Abstraction (Protected children):"
   ]
  },
  {
   "cell_type": "code",
   "execution_count": null,
   "metadata": {},
   "outputs": [],
   "source": [
    "$A.prop2 =                      # can be accessed outside of A\n",
    "private $A.prop1 =              # can only be accessed within A\n",
    "readonly $A.prop4 =             # cannot be modified after initialization, can be read outside of A\n",
    "private readonly $A.prop3 =     # cannot be modified after initialization, can only be read within A\n",
    "\n",
    "A =                             # A's value can be accessed outside of itself or a subtype\n",
    "private A =                     # A's value can only be accessed from a subtype or its own children\n",
    "readonly A =                    # A's value can be read from outside of itself or a subtype, but cannot be changed\n",
    "private readonly A =            # A's value can only be read from a subtype or its own children, and cannot be changed\n",
    "\n",
    "A =                             # $A can be accessed outside of itself or a subtype\n",
    "hidden A =                      # $A can only be accessed from a subtype or its own children...\n",
    "                                  # it appears nonexistent except when used as a type in variable declaration\n",
    "locked A =                      # $A can be read from outside of itself or a subtype, ...\n",
    "                                  # but properties and methods cannot be added or deleted\n",
    "hidden locked A =               # $A can only be read from a subtype or its own children, ...\n",
    "                                  # and properties and methods cannot be added or deleted"
   ]
  },
  {
   "cell_type": "markdown",
   "metadata": {},
   "source": [
    "> Note that `private` and `hidden` are similar in that they have the same effect on a variable's value or a variables's object reference respectively, and same goes for `readonly` and `locked`"
   ]
  },
  {
   "cell_type": "markdown",
   "metadata": {},
   "source": [
    "##### Polymorphism/Operator Overloading:"
   ]
  },
  {
   "cell_type": "code",
   "execution_count": null,
   "metadata": {},
   "outputs": [],
   "source": [
    "A = [n]:                    # When 1 arg is passed, assign $A.x to that arg\n",
    "    inst $\n",
    "    private $.x = n\n",
    "    return $\n",
    ";,                          # Note that there is a comma, denoting a sequence of functions\n",
    "[n, d]:                     # When 2 args are passed, assign $A.x to their difference\n",
    "    inst $\n",
    "    private $.x = n - d\n",
    "    return $\n",
    ";                           # When a sequence of functions is called, it will call ...\n",
    "                              # the first function where the passed arguments are valid\n",
    "\n",
    "$A.getX = : $.x ;\n",
    "\n",
    "\n",
    "a1 = A(5)\n",
    "a1.getX()                   #: 5\n",
    "\n",
    "a2 = A(5, 3)\n",
    "a2.getX()                   #: 2"
   ]
  }
 ],
 "metadata": {
  "kernelspec": {
   "display_name": "echotest",
   "language": "lang3",
   "name": "echotest"
  },
  "language_info": {
   "file_extension": ".txt",
   "mimetype": "text/plain",
   "name": "lang3"
  }
 },
 "nbformat": 4,
 "nbformat_minor": 2
}
